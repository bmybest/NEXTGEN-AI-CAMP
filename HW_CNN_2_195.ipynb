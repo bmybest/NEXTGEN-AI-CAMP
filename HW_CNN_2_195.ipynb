{
  "nbformat": 4,
  "nbformat_minor": 0,
  "metadata": {
    "colab": {
      "provenance": [],
      "authorship_tag": "ABX9TyMKrDy5Xhth6al1JA0gRf9y",
      "include_colab_link": true
    },
    "kernelspec": {
      "name": "python3",
      "display_name": "Python 3"
    },
    "language_info": {
      "name": "python"
    }
  },
  "cells": [
    {
      "cell_type": "markdown",
      "metadata": {
        "id": "view-in-github",
        "colab_type": "text"
      },
      "source": [
        "<a href=\"https://colab.research.google.com/github/bmybest/NEXTGEN-AI-CAMP/blob/main/HW_CNN_2_195.ipynb\" target=\"_parent\"><img src=\"https://colab.research.google.com/assets/colab-badge.svg\" alt=\"Open In Colab\"/></a>"
      ]
    },
    {
      "cell_type": "markdown",
      "source": [
        "ข้อ 4"
      ],
      "metadata": {
        "id": "OkySY4J2sL5k"
      }
    },
    {
      "cell_type": "markdown",
      "source": [
        "195 นางสาวอุไรอร ปิ่นศิริ email: bestbronze08@gmail.com"
      ],
      "metadata": {
        "id": "G63OAZUlsDkv"
      }
    },
    {
      "cell_type": "code",
      "execution_count": null,
      "metadata": {
        "id": "TgiZfSYZlIbs"
      },
      "outputs": [],
      "source": [
        "import torch\n",
        "import torch.nn as nn\n",
        "\n",
        "class CustomLeNet5(nn.Module):\n",
        "    def __init__(self,input_size=(3,64,64)):\n",
        "        super(CustomLeNet5, self).__init__()\n",
        "\n",
        "        self.conv1 = nn.Conv2d(in_channels=input_size[0], out_channels=6, kernel_size=5, stride=1, padding=0)\n",
        "        self.relu1 = nn.ReLU()\n",
        "\n",
        "        self.conv2 = nn.Conv2d(in_channels=6, out_channels=16, kernel_size=5, stride=1, padding=2)\n",
        "        self.relu2 = nn.ReLU()\n",
        "\n",
        "        self.conv3 = nn.Conv2d(in_channels=16, out_channels=32, kernel_size=5, stride=1, padding=0)\n",
        "        self.relu3 = nn.ReLU()\n",
        "\n",
        "        self.flatten = nn.Flatten()\n",
        "\n",
        "        self.fc1 = nn.Linear(self._get_input_size_fc1(input_size), 120)\n",
        "        self.relu4 = nn.ReLU()\n",
        "\n",
        "        self.fc2 = nn.Linear(120, 84)\n",
        "        self.relu5 = nn.ReLU()\n",
        "\n",
        "        self.fc3 = nn.Linear(84, 4)\n",
        "\n",
        "    def _get_input_size_fc1(self, input_shape):\n",
        "        with torch.no_grad():\n",
        "            x = torch.zeros(1, *input_shape)\n",
        "            x = self.conv1(x)\n",
        "            x = self.relu1(x)\n",
        "\n",
        "            x = self.conv2(x)\n",
        "            x = self.relu2(x)\n",
        "\n",
        "            x = self.conv3(x)\n",
        "            x = self.relu3(x)\n",
        "\n",
        "            x = self.flatten(x)\n",
        "        return x.size(1)\n",
        "\n",
        "    def forward(self, x):\n",
        "        x = self.conv1(x)\n",
        "        x = self.relu1(x)\n",
        "\n",
        "        x = self.conv2(x)\n",
        "        x = self.relu2(x)\n",
        "\n",
        "        x = self.conv3(x)\n",
        "        x = self.relu3(x)\n",
        "\n",
        "        x = self.flatten(x)\n",
        "\n",
        "        x = self.fc1(x)\n",
        "        x = self.relu4(x)\n",
        "\n",
        "        x = self.fc2(x)\n",
        "        x = self.relu5(x)\n",
        "\n",
        "        x = self.fc3(x)\n",
        "        return x"
      ]
    },
    {
      "cell_type": "code",
      "source": [
        "class CustomCNN(nn.Module):\n",
        "    def __init__(self,input_size=(3,128,128)):\n",
        "        super(CustomCNN, self).__init__()\n",
        "\n",
        "        self.conv1 = nn.Conv2d(in_channels=input_size[0], out_channels=16, kernel_size=3, stride=1, padding=1)\n",
        "        self.relu1 = nn.ReLU()\n",
        "        self.conv2 = nn.Conv2d(in_channels=16, out_channels=64, kernel_size=3, stride=2, padding=1)\n",
        "        self.relu2 = nn.ReLU()\n",
        "        self.pool1 = nn.MaxPool2d(kernel_size=2, stride=2)\n",
        "\n",
        "        self.conv3 = nn.Conv2d(in_channels=64, out_channels=64, kernel_size=5, stride=1, padding=0)\n",
        "        self.relu3 = nn.ReLU()\n",
        "        self.conv4 = nn.Conv2d(in_channels=64, out_channels=128, kernel_size=5, stride=1, padding=2)\n",
        "        self.relu4 = nn.ReLU()\n",
        "        self.pool2 = nn.MaxPool2d(kernel_size=2, stride=2)\n",
        "\n",
        "        self.flatten = nn.Flatten()\n",
        "\n",
        "        self.fc1 = nn.Linear(self._get_input_size_fc1(input_size), 200)\n",
        "        self.relu5 = nn.ReLU()\n",
        "\n",
        "        self.fc2 = nn.Linear(200, 64)\n",
        "        self.relu6 = nn.ReLU()\n",
        "\n",
        "        self.fc3 = nn.Linear(64, 10)\n",
        "\n",
        "    def _get_input_size_fc1(self, input_shape):\n",
        "        with torch.no_grad():\n",
        "            x = torch.zeros(1, *input_shape)\n",
        "            x = self.conv1(x)\n",
        "            x = self.relu1(x)\n",
        "            x = self.conv2(x)\n",
        "            x = self.relu2(x)\n",
        "            x = self.pool1(x)\n",
        "\n",
        "            x = self.conv3(x)\n",
        "            x = self.relu3(x)\n",
        "            x = self.conv4(x)\n",
        "            x = self.relu4(x)\n",
        "            x = self.pool2(x)\n",
        "\n",
        "            x = self.flatten(x)\n",
        "        return x.size(1)\n",
        "\n",
        "    def forward(self, x):\n",
        "        x = self.conv1(x)\n",
        "        x = self.relu1(x)\n",
        "        x = self.conv2(x)\n",
        "        x = self.relu2(x)\n",
        "        x = self.pool1(x)\n",
        "\n",
        "        x = self.conv3(x)\n",
        "        x = self.relu3(x)\n",
        "        x = self.conv4(x)\n",
        "        x = self.relu4(x)\n",
        "        x = self.pool2(x)\n",
        "\n",
        "        x = self.flatten(x)\n",
        "\n",
        "        x = self.fc1(x)\n",
        "        x = self.relu5(x)\n",
        "\n",
        "        x = self.fc2(x)\n",
        "        x = self.relu6(x)\n",
        "\n",
        "        x = self.fc3(x)\n",
        "        return x"
      ],
      "metadata": {
        "id": "xqa2hM-btF18"
      },
      "execution_count": null,
      "outputs": []
    }
  ]
}