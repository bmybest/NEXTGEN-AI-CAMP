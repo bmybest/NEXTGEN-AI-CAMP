{
  "nbformat": 4,
  "nbformat_minor": 0,
  "metadata": {
    "colab": {
      "provenance": [],
      "authorship_tag": "ABX9TyPSzzYwarS7FNNGJO02ZwW4",
      "include_colab_link": true
    },
    "kernelspec": {
      "name": "python3",
      "display_name": "Python 3"
    },
    "language_info": {
      "name": "python"
    }
  },
  "cells": [
    {
      "cell_type": "markdown",
      "metadata": {
        "id": "view-in-github",
        "colab_type": "text"
      },
      "source": [
        "<a href=\"https://colab.research.google.com/github/bmybest/NEXTGEN-AI-CAMP/blob/main/HW_Python_2.ipynb\" target=\"_parent\"><img src=\"https://colab.research.google.com/assets/colab-badge.svg\" alt=\"Open In Colab\"/></a>"
      ]
    },
    {
      "cell_type": "markdown",
      "source": [
        "1.จงเขียนโปรแกรมรับค่าของตัวเลข 3 ค่า (a,b,c) จากคีย์บอร์ด และทดสอบเงื่อนไขว่า ค่าใดอยู่ตรงกลาง โดยใช้ คําสัง if-else แล้วพิมพ์เฉพาะค่าที่อยู่ตรงกลาง"
      ],
      "metadata": {
        "id": "WEuYs5vFYy34"
      }
    },
    {
      "cell_type": "code",
      "execution_count": null,
      "metadata": {
        "colab": {
          "base_uri": "https://localhost:8080/"
        },
        "id": "loqaQjJlYrsm",
        "outputId": "9ac5552c-4198-41b2-c3c1-ade8d8f83803"
      },
      "outputs": [
        {
          "output_type": "stream",
          "name": "stdout",
          "text": [
            "Pls input 3 number(a,b,c) :  -5 10 -2\n",
            "-2.0\n"
          ]
        }
      ],
      "source": [
        "a,b,c = [float(e) for e in input(\"Pls input 3 number(a,b,c) : \").split()]\n",
        "if (a<= b <=c) or (c<= b <=a):\n",
        "  print(b)\n",
        "elif (b<= a <=c) or (c<= a <=b):\n",
        "  print(a)\n",
        "else:\n",
        "  print(c)"
      ]
    },
    {
      "cell_type": "markdown",
      "source": [
        "2. จงเขียนโปรแกรมรับค่าของคะแนนเป็นจำนวนเต็ม (x) จากคีย์บอร์ด และตัดเกรดตามเงื่อนไขต่อไปนี้\n",
        "\n",
        "คะแนน 90 <= x <= 100 ได้เกรด ‘A’\n",
        "\n",
        "คะแนน 85 <= x < 90 ได้เกรด ‘B+’\n",
        "\n",
        "คะแนน 80 <= x < 85 ได้เกรด ‘B’\n",
        "\n",
        "คะแนน 70 <= x < 80 ได้เกรด ‘C+’\n",
        "\n",
        "คะแนน 60 <= x < 70 ได้เกรด ‘C’\n",
        "\n",
        "คะแนน 55 <= x < 60 ได้เกรด ‘D+’\n",
        "\n",
        "คะแนน 50 <= x < 55 ได้เกรด ‘D’\n",
        "\n",
        "คะแนน x < 50 ได้เกรด ‘F’"
      ],
      "metadata": {
        "id": "F81DtnFLcL6z"
      }
    },
    {
      "cell_type": "code",
      "source": [
        "x= float(input(\"Pls input score : \"))\n",
        "if 90 <= x <= 100:\n",
        "  print('A')\n",
        "elif 85 <= x < 90:\n",
        "  print('B+')\n",
        "elif 80 <= x < 85:\n",
        "  print('B')\n",
        "elif 70 <= x < 80:\n",
        "  print('C+')\n",
        "elif 60 <= x < 70:\n",
        "  print('C')\n",
        "elif 55 <= x < 60:\n",
        "  print('D+')\n",
        "elif 50 <= x < 55:\n",
        "  print('D')\n",
        "else:\n",
        "  print('F')"
      ],
      "metadata": {
        "colab": {
          "base_uri": "https://localhost:8080/"
        },
        "id": "hPel-u1yc182",
        "outputId": "b67a922b-17a0-4c98-bce0-45b25f7a3651"
      },
      "execution_count": null,
      "outputs": [
        {
          "output_type": "stream",
          "name": "stdout",
          "text": [
            "Pls input score : 0\n",
            "F\n"
          ]
        }
      ]
    },
    {
      "cell_type": "markdown",
      "source": [
        "3. จงเขียนโปรแกรมรับค่าของตัวเลือก 1 ค่า (x) จากคีย์บอร์ด เพื่อถามว่า จะหาพื้นที่สี่เหลี่ยม (Rectangle Area) หรือสามเหลี่ยม (Triangle Area) จากนั้นรับค่าตัวแปรเพื่อหาพื้นที่ เช่น ถ้าต้องการหาพื้นที่ของสี่เหลี่ยม และใส่ค่าความกว้าง และความยาว"
      ],
      "metadata": {
        "id": "zir6qX_qeK71"
      }
    },
    {
      "cell_type": "code",
      "source": [
        "n=int(input(\"1. (Rectangle) or 2. (Triangle) :\"))\n",
        "if n==1:\n",
        "  w,l=[float(e) for e in input(\"Enter width, length: \").split(',')]\n",
        "  area= w*l\n",
        "  print(f'Rectangle Area = {area}')\n",
        "else:\n",
        "  b,h=[float(e) for e in input(\"Enter base, height \").split(',')]\n",
        "  area= 0.5*h*b\n",
        "  print(f'Triangle Area = {area}')"
      ],
      "metadata": {
        "colab": {
          "base_uri": "https://localhost:8080/",
          "height": 367
        },
        "id": "GTN3Yo72eOMb",
        "outputId": "de72b685-8e60-4325-8d95-aa200a25ef7d"
      },
      "execution_count": null,
      "outputs": [
        {
          "name": "stdout",
          "output_type": "stream",
          "text": [
            "1. (Rectangle) or 2. (Triangle) :1\n",
            "Enter width, length: 16,20\n"
          ]
        },
        {
          "output_type": "error",
          "ename": "ValueError",
          "evalue": "could not convert string to float: '16,20'",
          "traceback": [
            "\u001b[0;31m---------------------------------------------------------------------------\u001b[0m",
            "\u001b[0;31mValueError\u001b[0m                                Traceback (most recent call last)",
            "\u001b[0;32m<ipython-input-4-37785067eace>\u001b[0m in \u001b[0;36m<cell line: 2>\u001b[0;34m()\u001b[0m\n\u001b[1;32m      1\u001b[0m \u001b[0mn\u001b[0m\u001b[0;34m=\u001b[0m\u001b[0mint\u001b[0m\u001b[0;34m(\u001b[0m\u001b[0minput\u001b[0m\u001b[0;34m(\u001b[0m\u001b[0;34m\"1. (Rectangle) or 2. (Triangle) :\"\u001b[0m\u001b[0;34m)\u001b[0m\u001b[0;34m)\u001b[0m\u001b[0;34m\u001b[0m\u001b[0;34m\u001b[0m\u001b[0m\n\u001b[1;32m      2\u001b[0m \u001b[0;32mif\u001b[0m \u001b[0mn\u001b[0m\u001b[0;34m==\u001b[0m\u001b[0;36m1\u001b[0m\u001b[0;34m:\u001b[0m\u001b[0;34m\u001b[0m\u001b[0;34m\u001b[0m\u001b[0m\n\u001b[0;32m----> 3\u001b[0;31m   \u001b[0mw\u001b[0m\u001b[0;34m,\u001b[0m\u001b[0ml\u001b[0m\u001b[0;34m=\u001b[0m\u001b[0;34m[\u001b[0m\u001b[0mfloat\u001b[0m\u001b[0;34m(\u001b[0m\u001b[0me\u001b[0m\u001b[0;34m)\u001b[0m \u001b[0;32mfor\u001b[0m \u001b[0me\u001b[0m \u001b[0;32min\u001b[0m \u001b[0minput\u001b[0m\u001b[0;34m(\u001b[0m\u001b[0;34m\"Enter width, length: \"\u001b[0m\u001b[0;34m)\u001b[0m\u001b[0;34m.\u001b[0m\u001b[0msplit\u001b[0m\u001b[0;34m(\u001b[0m\u001b[0;34m)\u001b[0m\u001b[0;34m]\u001b[0m\u001b[0;34m\u001b[0m\u001b[0;34m\u001b[0m\u001b[0m\n\u001b[0m\u001b[1;32m      4\u001b[0m   \u001b[0marea\u001b[0m\u001b[0;34m=\u001b[0m \u001b[0mw\u001b[0m\u001b[0;34m*\u001b[0m\u001b[0ml\u001b[0m\u001b[0;34m\u001b[0m\u001b[0;34m\u001b[0m\u001b[0m\n\u001b[1;32m      5\u001b[0m   \u001b[0mprint\u001b[0m\u001b[0;34m(\u001b[0m\u001b[0;34mf'Rectangle Area = {area}'\u001b[0m\u001b[0;34m)\u001b[0m\u001b[0;34m\u001b[0m\u001b[0;34m\u001b[0m\u001b[0m\n",
            "\u001b[0;32m<ipython-input-4-37785067eace>\u001b[0m in \u001b[0;36m<listcomp>\u001b[0;34m(.0)\u001b[0m\n\u001b[1;32m      1\u001b[0m \u001b[0mn\u001b[0m\u001b[0;34m=\u001b[0m\u001b[0mint\u001b[0m\u001b[0;34m(\u001b[0m\u001b[0minput\u001b[0m\u001b[0;34m(\u001b[0m\u001b[0;34m\"1. (Rectangle) or 2. (Triangle) :\"\u001b[0m\u001b[0;34m)\u001b[0m\u001b[0;34m)\u001b[0m\u001b[0;34m\u001b[0m\u001b[0;34m\u001b[0m\u001b[0m\n\u001b[1;32m      2\u001b[0m \u001b[0;32mif\u001b[0m \u001b[0mn\u001b[0m\u001b[0;34m==\u001b[0m\u001b[0;36m1\u001b[0m\u001b[0;34m:\u001b[0m\u001b[0;34m\u001b[0m\u001b[0;34m\u001b[0m\u001b[0m\n\u001b[0;32m----> 3\u001b[0;31m   \u001b[0mw\u001b[0m\u001b[0;34m,\u001b[0m\u001b[0ml\u001b[0m\u001b[0;34m=\u001b[0m\u001b[0;34m[\u001b[0m\u001b[0mfloat\u001b[0m\u001b[0;34m(\u001b[0m\u001b[0me\u001b[0m\u001b[0;34m)\u001b[0m \u001b[0;32mfor\u001b[0m \u001b[0me\u001b[0m \u001b[0;32min\u001b[0m \u001b[0minput\u001b[0m\u001b[0;34m(\u001b[0m\u001b[0;34m\"Enter width, length: \"\u001b[0m\u001b[0;34m)\u001b[0m\u001b[0;34m.\u001b[0m\u001b[0msplit\u001b[0m\u001b[0;34m(\u001b[0m\u001b[0;34m)\u001b[0m\u001b[0;34m]\u001b[0m\u001b[0;34m\u001b[0m\u001b[0;34m\u001b[0m\u001b[0m\n\u001b[0m\u001b[1;32m      4\u001b[0m   \u001b[0marea\u001b[0m\u001b[0;34m=\u001b[0m \u001b[0mw\u001b[0m\u001b[0;34m*\u001b[0m\u001b[0ml\u001b[0m\u001b[0;34m\u001b[0m\u001b[0;34m\u001b[0m\u001b[0m\n\u001b[1;32m      5\u001b[0m   \u001b[0mprint\u001b[0m\u001b[0;34m(\u001b[0m\u001b[0;34mf'Rectangle Area = {area}'\u001b[0m\u001b[0;34m)\u001b[0m\u001b[0;34m\u001b[0m\u001b[0;34m\u001b[0m\u001b[0m\n",
            "\u001b[0;31mValueError\u001b[0m: could not convert string to float: '16,20'"
          ]
        }
      ]
    },
    {
      "cell_type": "markdown",
      "source": [
        "4. รับจำนวนเต็ม 5 จำนวน คั่นด้วยช่องว่าง ตรวจว่าลำดับจากซ้ายไปขวาของจำนวนที่รับมา เรียงจากน้อยไปมากหรือไม่ ให้ตอบเป็น True, False"
      ],
      "metadata": {
        "id": "peALaTR9fim9"
      }
    },
    {
      "cell_type": "code",
      "source": [
        "x1,x2,x3,x4,x5=[float(e) for e in input(\"Pls input 5 number: \").split()]\n",
        "if x1 <= x2 <= x3 <= x4 <= x5:\n",
        "  print('True')\n",
        "else:\n",
        "  print('False')"
      ],
      "metadata": {
        "colab": {
          "base_uri": "https://localhost:8080/"
        },
        "id": "AarsEDjgei2X",
        "outputId": "ac0a389f-429c-47fe-8c5b-2e82ab8af876"
      },
      "execution_count": null,
      "outputs": [
        {
          "output_type": "stream",
          "name": "stdout",
          "text": [
            "Pls input 5 number: 1 1 1 1 1\n",
            "True\n"
          ]
        }
      ]
    },
    {
      "cell_type": "markdown",
      "source": [
        "5. รับจำนวนเต็ม 4 จำนวน คั่นด้วยช่องว่าง หาผลรวมของจำนวนที่รับมา โดยไม่รวมจำนวนที่ มากที่สุด และ น้อยที่สุด"
      ],
      "metadata": {
        "id": "PFBVYmF7gV0t"
      }
    },
    {
      "cell_type": "code",
      "source": [
        "x1,x2,x3,x4=[float(e) for e in input(\"Pls input 4 number: \").split()]\n",
        "if (x1<= x3 <= x4 <= x2) or  (x2<= x3 <= x4 <= x1) or (x1<= x4 <= x3 <= x2) or  (x2<= x4 <= x3 <= x1):\n",
        "  print(x3+x4)\n",
        "elif  (x1<= x2 <= x4 <= x3) or  (x3<= x2 <= x4 <= x1) or (x1<= x4 <= x2 <= x3) or  (x3<= x4 <= x2 <= x1):\n",
        "  print(x2+x4)\n",
        "elif  (x2<= x1 <= x4 <= x3) or  (x3<= x1 <= x4 <= x2) or (x2<= x4 <= x1 <= x3) or  (x3<= x4 <= x1 <= x2):\n",
        "  print(x1+x4)\n",
        "elif  (x1<= x2 <= x3 <= x4) or  (x4<= x3 <= x2 <= x1) or (x1<= x3 <= x2 <= x4) or  (x4<= x2 <= x3 <= x1):\n",
        "  print(x2+x3)\n",
        "elif  (x2<= x1 <= x3 <= x4) or  (x4<= x3 <= x1 <= x2) or (x2<= x3 <= x1 <= x4) or  (x4<= x1 <= x3 <= x2):\n",
        "  print(x1+x3)\n",
        "else:\n",
        "  print(x1+x2)"
      ],
      "metadata": {
        "colab": {
          "base_uri": "https://localhost:8080/"
        },
        "id": "eAWLxBsXgTpA",
        "outputId": "0f7b59c2-8efe-45ae-8024-6b5276974e04"
      },
      "execution_count": null,
      "outputs": [
        {
          "output_type": "stream",
          "name": "stdout",
          "text": [
            "Pls input 4 number: 1 1 1 1\n",
            "2.0\n"
          ]
        }
      ]
    },
    {
      "cell_type": "markdown",
      "source": [
        "6.จงเขียนโปรแกรมกำหนดราคา Pizza โดยถาดเล็ก 99 บาท ถาดกลาง 199 บาท ถาดใหญ่ 299 บาท และ หากต้องการเพิ่มขอบชีส ถาดเล็กจะบวกราคาอีก 20 บาท ถาดกลาง 30 บาท ถาดใหญ่ 40 บาท และ เพิ่มหน้าเป็นพิเศษอีก 20 บาท ให้รับข้อมูลขนาด (S,M,L) และ option เพิ่มชีส (ถามเป็น Y/N) กับเพิ่มหน้า (Extra) (ถามเป็น Y/N) และแสดงราคาสุดท้าย"
      ],
      "metadata": {
        "id": "SlJK4P9sjceZ"
      }
    },
    {
      "cell_type": "code",
      "source": [
        "Size=input('S, M, L :')\n",
        "Cheese = input('At cheese (Y/N) :')\n",
        "Extra = input('Extra (Y/N) :')\n",
        "Prize=0\n",
        "if Size== 'S':\n",
        "  Prize += 99\n",
        "  if Cheese == 'Y':\n",
        "    Prize += 20\n",
        "elif Size== 'M':\n",
        "  Prize += 199\n",
        "  if Cheese == 'Y':\n",
        "    Prize += 30\n",
        "elif Size== 'L':\n",
        "  Prize += 299\n",
        "  if Cheese == 'Y':\n",
        "    Prize += 40\n",
        "if Extra == 'Y':\n",
        "  Prize += 20\n",
        "print(f'Prize = {Prize}')"
      ],
      "metadata": {
        "colab": {
          "base_uri": "https://localhost:8080/"
        },
        "id": "9tqE5eZXjcMS",
        "outputId": "4d14fa76-dc6b-430a-f719-b0852fee6cae"
      },
      "execution_count": null,
      "outputs": [
        {
          "output_type": "stream",
          "name": "stdout",
          "text": [
            "S, M, L :L\n",
            "At cheese (Y/N) :N\n",
            "Extra (Y/N) :N\n",
            "Prize = 299\n"
          ]
        }
      ]
    }
  ]
}