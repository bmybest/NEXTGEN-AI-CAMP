{
  "nbformat": 4,
  "nbformat_minor": 0,
  "metadata": {
    "colab": {
      "provenance": [],
      "authorship_tag": "ABX9TyNAvsRn9MeDaLc0sWuGSVlI",
      "include_colab_link": true
    },
    "kernelspec": {
      "name": "python3",
      "display_name": "Python 3"
    },
    "language_info": {
      "name": "python"
    }
  },
  "cells": [
    {
      "cell_type": "markdown",
      "metadata": {
        "id": "view-in-github",
        "colab_type": "text"
      },
      "source": [
        "<a href=\"https://colab.research.google.com/github/bmybest/NEXTGEN-AI-CAMP/blob/main/Nextgen_AI_CNN_1.ipynb\" target=\"_parent\"><img src=\"https://colab.research.google.com/assets/colab-badge.svg\" alt=\"Open In Colab\"/></a>"
      ]
    },
    {
      "cell_type": "code",
      "source": [
        "import torch\n",
        "import numpy as np\n",
        "import torch.nn as nn\n",
        "import torch.optim as optim\n",
        "import matplotlib.pyplot as plt\n",
        "from sklearn.metrics import confusion_matrix,classification_report\n",
        "import seaborn as sns"
      ],
      "metadata": {
        "id": "QVW2nyZcWSDm"
      },
      "execution_count": null,
      "outputs": []
    },
    {
      "cell_type": "code",
      "source": [
        "# Check for CUDA\n",
        "device = torch.device('cuda' if torch.cuda.is_available() else 'cpu')\n",
        "print(device)"
      ],
      "metadata": {
        "colab": {
          "base_uri": "https://localhost:8080/"
        },
        "id": "qOPrrV95WSng",
        "outputId": "88c78d89-6a84-4f95-c1ca-6fc4c9ae7168"
      },
      "execution_count": null,
      "outputs": [
        {
          "output_type": "stream",
          "name": "stdout",
          "text": [
            "cpu\n"
          ]
        }
      ]
    },
    {
      "cell_type": "code",
      "execution_count": null,
      "metadata": {
        "id": "xdNTWVW1Vuza"
      },
      "outputs": [],
      "source": [
        "### START CODE HERE ###\n",
        "square = [[[1,1,1,1],\n",
        "          [1,5,5,1],\n",
        "          [1,5,5,1],\n",
        "          [1,1,1,1]]]\n",
        "triangle = [[[1,1,1,5],\n",
        "            [1,1,5,5],\n",
        "            [1,5,5,5],\n",
        "            [5,5,5,5]]]\n",
        "\n",
        "tensor_square = torch.tensor(square)\n",
        "tensor_triangle = torch.tensor(triangle)\n",
        "\n",
        "labels_square = torch.tensor([1])\n",
        "labels_triangle = torch.tensor([0])\n",
        "\n",
        "data_tensors = torch.stack([tensor_square, tensor_triangle])\n",
        "data_labels = torch.stack([labels_square, labels_triangle])\n",
        "\n",
        "### END CODE HERE ###"
      ]
    },
    {
      "cell_type": "code",
      "source": [
        "plt.subplot(1, 2, 1)\n",
        "plt.axis('off')\n",
        "plt.imshow(tensor_square[0])\n",
        "plt.title('Square')\n",
        "for i in range(tensor_square.shape[1]):\n",
        "    for j in range(tensor_square.shape[2]):\n",
        "        plt.text(j, i, tensor_square[0, i, j].item(), ha='center', va='center', color='white')\n",
        "\n",
        "plt.subplot(1, 2, 2)\n",
        "plt.axis('off')\n",
        "plt.imshow(tensor_triangle[0])\n",
        "plt.title('Triangle')\n",
        "for i in range(tensor_triangle.shape[1]):\n",
        "    for j in range(tensor_triangle.shape[2]):\n",
        "        plt.text(j, i, tensor_triangle[0, i, j].item(), ha='center', va='center', color='white')\n",
        "\n",
        "plt.show()"
      ],
      "metadata": {
        "colab": {
          "base_uri": "https://localhost:8080/",
          "height": 284
        },
        "id": "PImBpMIlV1BK",
        "outputId": "6cc38eb9-f5d4-4ebb-aec4-f6bedc2f6267"
      },
      "execution_count": null,
      "outputs": [
        {
          "output_type": "display_data",
          "data": {
            "text/plain": [
              "<Figure size 640x480 with 2 Axes>"
            ],
            "image/png": "[encoded data removed]"
          },
          "metadata": {}
        }
      ]
    },
    {
      "cell_type": "code",
      "source": [
        "assert data_tensors.shape == torch.Size([2, 1, 4, 4])\n",
        "assert data_labels.shape == torch.Size([2, 1])\n",
        "print(\"You have successfully created the data_tensors!\")"
      ],
      "metadata": {
        "colab": {
          "base_uri": "https://localhost:8080/"
        },
        "id": "oRD3VOpiZZeN",
        "outputId": "7b1b9024-f0bc-407a-b406-21d9dde4be96"
      },
      "execution_count": null,
      "outputs": [
        {
          "output_type": "stream",
          "name": "stdout",
          "text": [
            "You have successfully created the data_tensors!\n"
          ]
        }
      ]
    },
    {
      "cell_type": "code",
      "source": [
        "dataset = torch.utils.data.TensorDataset(data_tensors, data_labels)\n",
        "dataloader = torch.utils.data.DataLoader(dataset, batch_size=len(dataset), shuffle=True)"
      ],
      "metadata": {
        "id": "PDR6OND_cIUp"
      },
      "execution_count": null,
      "outputs": []
    },
    {
      "cell_type": "code",
      "source": [
        "class SimpleCNN(nn.Module):\n",
        "    def __init__(self):\n",
        "        super(SimpleCNN, self).__init__()\n",
        "        self.conv1 = nn.Conv2d(in_channels=1, out_channels=2, kernel_size=3, stride=1, padding=1)\n",
        "        self.relu1 = nn.ReLU()\n",
        "        self.conv2 = nn.Conv2d(in_channels=2, out_channels=2, kernel_size=3, stride=1, padding=1)\n",
        "        self.relu2 = nn.ReLU()\n",
        "        self.flatten = nn.Flatten()\n",
        "        self.fc = nn.Linear(32,2)\n",
        "        self.relu3 = nn.ReLU()\n",
        "        self.out = nn.Linear(2,1)\n",
        "        self.sigmoid = nn.Sigmoid()\n",
        "\n",
        "\n",
        "    def get_features(self, x):\n",
        "        \"\"\"\n",
        "        Function to get the feature maps of the input\n",
        "        \"\"\"\n",
        "        x = self.conv1(x)\n",
        "        f1 = self.relu1(x)\n",
        "        x = self.conv2(f1)\n",
        "        f2 = self.relu2(x)\n",
        "        return f1,f2\n",
        "\n",
        "    def forward(self, x):\n",
        "        x = self.conv1(x)\n",
        "        x = self.relu1(x)\n",
        "        x = self.conv2(x)\n",
        "        x = self.relu2(x)\n",
        "        x = self.flatten(x)\n",
        "        x = self.fc(x)\n",
        "        x = self.relu3(x)\n",
        "        x = self.out(x)\n",
        "        x = self.sigmoid(x)\n",
        "        return x\n",
        "\n",
        "# Set the random seed for reproducible results\n",
        "torch.manual_seed(841)\n",
        "model = SimpleCNN().to(device)\n",
        "print(model)"
      ],
      "metadata": {
        "colab": {
          "base_uri": "https://localhost:8080/"
        },
        "id": "t2CUdHwgcLIs",
        "outputId": "4d34bea2-e164-4117-beaf-e5fccc746265"
      },
      "execution_count": null,
      "outputs": [
        {
          "output_type": "stream",
          "name": "stdout",
          "text": [
            "SimpleCNN(\n",
            "  (conv1): Conv2d(1, 2, kernel_size=(3, 3), stride=(1, 1), padding=(1, 1))\n",
            "  (relu1): ReLU()\n",
            "  (conv2): Conv2d(2, 2, kernel_size=(3, 3), stride=(1, 1), padding=(1, 1))\n",
            "  (relu2): ReLU()\n",
            "  (flatten): Flatten(start_dim=1, end_dim=-1)\n",
            "  (fc): Linear(in_features=32, out_features=2, bias=True)\n",
            "  (relu3): ReLU()\n",
            "  (out): Linear(in_features=2, out_features=1, bias=True)\n",
            "  (sigmoid): Sigmoid()\n",
            ")\n"
          ]
        }
      ]
    },
    {
      "cell_type": "code",
      "source": [
        "#ตรวจสอบว่ามิติตรงไหม\n",
        "assert model(tensor_triangle.unsqueeze(1).float().to(device)).shape == torch.Size([1, 1])\n",
        "print(\"You have successfully implemented a forward pass!\")"
      ],
      "metadata": {
        "colab": {
          "base_uri": "https://localhost:8080/"
        },
        "id": "bpoFBXhocPfJ",
        "outputId": "829f4668-79ad-48da-d3c0-aca22d17a706"
      },
      "execution_count": null,
      "outputs": [
        {
          "output_type": "stream",
          "name": "stdout",
          "text": [
            "You have successfully implemented a forward pass!\n"
          ]
        }
      ]
    },
    {
      "cell_type": "code",
      "source": [
        "epochs = 10000\n",
        "lr = 0.0028\n",
        "criterion = nn.BCELoss()\n",
        "optimizer = torch.optim.SGD(model.parameters(), lr=lr)\n",
        "loss_history = []\n",
        "for epoch in range(epochs):\n",
        "    for x,y in dataloader:\n",
        "        x = x.to(device)\n",
        "        y = y.to(device)\n",
        "\n",
        "        optimizer.zero_grad()\n",
        "        output = model(x.float())\n",
        "        loss = criterion(output, y.float())\n",
        "        loss.backward()\n",
        "        optimizer.step()\n",
        "        loss_history.append(loss.item())\n",
        "    if (epoch+1) % 100 == 0:\n",
        "        print(f'[Epoch {epoch+1}] Loss: {loss.item()}')"
      ],
      "metadata": {
        "colab": {
          "base_uri": "https://localhost:8080/"
        },
        "id": "fq4Wi9rhcUgy",
        "outputId": "89a34b47-762f-4373-f8d3-26df204ac05f"
      },
      "execution_count": null,
      "outputs": [
        {
          "output_type": "stream",
          "name": "stdout",
          "text": [
            "[Epoch 100] Loss: 0.6817154884338379\n",
            "[Epoch 200] Loss: 0.6611222624778748\n",
            "[Epoch 300] Loss: 0.6282346248626709\n",
            "[Epoch 400] Loss: 0.5672623515129089\n",
            "[Epoch 500] Loss: 0.47858792543411255\n",
            "[Epoch 600] Loss: 0.39856597781181335\n",
            "[Epoch 700] Loss: 0.34911811351776123\n",
            "[Epoch 800] Loss: 0.315512478351593\n",
            "[Epoch 900] Loss: 0.28158697485923767\n",
            "[Epoch 1000] Loss: 0.2267603874206543\n",
            "[Epoch 1100] Loss: 0.1345243602991104\n",
            "[Epoch 1200] Loss: 0.0633760541677475\n",
            "[Epoch 1300] Loss: 0.03378051891922951\n",
            "[Epoch 1400] Loss: 0.021148990839719772\n",
            "[Epoch 1500] Loss: 0.014553532935678959\n",
            "[Epoch 1600] Loss: 0.010708252899348736\n",
            "[Epoch 1700] Loss: 0.008306743577122688\n",
            "[Epoch 1800] Loss: 0.006662528030574322\n",
            "[Epoch 1900] Loss: 0.005505356937646866\n",
            "[Epoch 2000] Loss: 0.004654431249946356\n",
            "[Epoch 2100] Loss: 0.003999796696007252\n",
            "[Epoch 2200] Loss: 0.0034895939752459526\n",
            "[Epoch 2300] Loss: 0.003082637209445238\n",
            "[Epoch 2400] Loss: 0.002748720347881317\n",
            "[Epoch 2500] Loss: 0.0024750535376369953\n",
            "[Epoch 2600] Loss: 0.0022435893770307302\n",
            "[Epoch 2700] Loss: 0.002047640969976783\n",
            "[Epoch 2800] Loss: 0.0018798790406435728\n",
            "[Epoch 2900] Loss: 0.001734842313453555\n",
            "[Epoch 3000] Loss: 0.0016084280796349049\n",
            "[Epoch 3100] Loss: 0.001497439807280898\n",
            "[Epoch 3200] Loss: 0.00139893707819283\n",
            "[Epoch 3300] Loss: 0.0013110607396811247\n",
            "[Epoch 3400] Loss: 0.0012329962337389588\n",
            "[Epoch 3500] Loss: 0.0011621640296652913\n",
            "[Epoch 3600] Loss: 0.001098804990760982\n",
            "[Epoch 3700] Loss: 0.0010408356320112944\n",
            "[Epoch 3800] Loss: 0.000988123705610633\n",
            "[Epoch 3900] Loss: 0.0009403395233675838\n",
            "[Epoch 4000] Loss: 0.000896149838808924\n",
            "[Epoch 4100] Loss: 0.0008555569220334291\n",
            "[Epoch 4200] Loss: 0.0008180491277016699\n",
            "[Epoch 4300] Loss: 0.000783475348725915\n",
            "[Epoch 4400] Loss: 0.0007514544995501637\n",
            "[Epoch 4500] Loss: 0.0007216809317469597\n",
            "[Epoch 4600] Loss: 0.0006939718150533736\n",
            "[Epoch 4700] Loss: 0.0006680351798422635\n",
            "[Epoch 4800] Loss: 0.0006437358679249883\n",
            "[Epoch 4900] Loss: 0.0006210266728885472\n",
            "[Epoch 5000] Loss: 0.0005997513653710485\n",
            "[Epoch 5100] Loss: 0.0005796669865958393\n",
            "[Epoch 5200] Loss: 0.000560862710699439\n",
            "[Epoch 5300] Loss: 0.0005431002355180681\n",
            "[Epoch 5400] Loss: 0.0005262312479317188\n",
            "[Epoch 5500] Loss: 0.0005102874129079282\n",
            "[Epoch 5600] Loss: 0.0004952310118824244\n",
            "[Epoch 5700] Loss: 0.0004809799720533192\n",
            "[Epoch 5800] Loss: 0.00046736138756386936\n",
            "[Epoch 5900] Loss: 0.0004544563707895577\n",
            "[Epoch 6000] Loss: 0.00044225226156413555\n",
            "[Epoch 6100] Loss: 0.0004304859903641045\n",
            "[Epoch 6200] Loss: 0.0004193721106275916\n",
            "[Epoch 6300] Loss: 0.0004087704000994563\n",
            "[Epoch 6400] Loss: 0.0003986107767559588\n",
            "[Epoch 6500] Loss: 0.0003888933570124209\n",
            "[Epoch 6600] Loss: 0.0003795464290305972\n",
            "[Epoch 6700] Loss: 0.0003707054420374334\n",
            "[Epoch 6800] Loss: 0.00036211981205269694\n",
            "[Epoch 6900] Loss: 0.000354008749127388\n",
            "[Epoch 7000] Loss: 0.0003460932057350874\n",
            "[Epoch 7100] Loss: 0.00033853703644126654\n",
            "[Epoch 7200] Loss: 0.00033130525844171643\n",
            "[Epoch 7300] Loss: 0.0003243626852054149\n",
            "[Epoch 7400] Loss: 0.0003176009049639106\n",
            "[Epoch 7500] Loss: 0.00031110510462895036\n",
            "[Epoch 7600] Loss: 0.00030491402139887214\n",
            "[Epoch 7700] Loss: 0.0002988516935147345\n",
            "[Epoch 7800] Loss: 0.00029302857001312077\n",
            "[Epoch 7900] Loss: 0.0002874571946449578\n",
            "[Epoch 8000] Loss: 0.00028198957443237305\n",
            "[Epoch 8100] Loss: 0.00027684294036589563\n",
            "[Epoch 8200] Loss: 0.00027173885609954596\n",
            "[Epoch 8300] Loss: 0.0002668422239366919\n",
            "[Epoch 8400] Loss: 0.00026210781652480364\n",
            "[Epoch 8500] Loss: 0.00025750230997800827\n",
            "[Epoch 8600] Loss: 0.0002530842903070152\n",
            "[Epoch 8700] Loss: 0.0002487983147148043\n",
            "[Epoch 8800] Loss: 0.000244608789216727\n",
            "[Epoch 8900] Loss: 0.00024053796369116753\n",
            "[Epoch 9000] Loss: 0.00023665858316235244\n",
            "[Epoch 9100] Loss: 0.00023283137124963105\n",
            "[Epoch 9200] Loss: 0.00022914008877705783\n",
            "[Epoch 9300] Loss: 0.00022549106506630778\n",
            "[Epoch 9400] Loss: 0.00022198635269887745\n",
            "[Epoch 9500] Loss: 0.00021862334688194096\n",
            "[Epoch 9600] Loss: 0.00021532553364522755\n",
            "[Epoch 9700] Loss: 0.0002121392171829939\n",
            "[Epoch 9800] Loss: 0.00020897862850688398\n",
            "[Epoch 9900] Loss: 0.00020595832029357553\n",
            "[Epoch 10000] Loss: 0.0002029633615165949\n"
          ]
        }
      ]
    },
    {
      "cell_type": "code",
      "source": [
        "plt.figure(figsize=(8, 5))\n",
        "plt.title('Loss over epochs')\n",
        "plt.plot(loss_history)"
      ],
      "metadata": {
        "colab": {
          "base_uri": "https://localhost:8080/",
          "height": 485
        },
        "id": "UpvOY8pPc0FL",
        "outputId": "68ac4b31-9b6b-444a-cc5f-25a159665601"
      },
      "execution_count": null,
      "outputs": [
        {
          "output_type": "execute_result",
          "data": {
            "text/plain": [
              "[<matplotlib.lines.Line2D at 0x79b27c987a30>]"
            ]
          },
          "metadata": {},
          "execution_count": 10
        },
        {
          "output_type": "display_data",
          "data": {
            "text/plain": [
              "<Figure size 800x500 with 1 Axes>"
            ],
            "image/png": "[encoded data removed]"
          },
          "metadata": {}
        }
      ]
    },
    {
      "cell_type": "markdown",
      "source": [
        "Save weigth model\n",
        "\n",
        "เราสามารถใช้ torch.save() เพื่อ save model และ ใช้ model.state_dict() เพื่อเข้าถึง dictionary ของ array ของ weights (ค่าสัมประสิทธิใน kernel mask) และ bias ของแต่ละ node จะเรียงตามลำดับ layer กำกับด้วยชื่อ layer.parameter"
      ],
      "metadata": {
        "id": "bkqHJl6wdNGa"
      }
    },
    {
      "cell_type": "code",
      "source": [
        "### START CODE HERE ###\n",
        "torch.save(model.state_dict(), 'model.pth')\n",
        "model.state_dict()\n",
        "### END CODE HERE ###"
      ],
      "metadata": {
        "colab": {
          "base_uri": "https://localhost:8080/"
        },
        "id": "iU-eK34uc5FD",
        "outputId": "d8879082-88c8-4d5f-8765-ee3ab7b93d6d"
      },
      "execution_count": null,
      "outputs": [
        {
          "output_type": "execute_result",
          "data": {
            "text/plain": [
              "OrderedDict([('conv1.weight',\n",
              "              tensor([[[[ 0.4178,  0.3936,  0.0348],\n",
              "                        [ 0.1918, -0.3002, -0.3480],\n",
              "                        [ 0.0229, -0.1447, -0.0315]]],\n",
              "              \n",
              "              \n",
              "                      [[[-0.1744,  0.0069,  0.2229],\n",
              "                        [ 0.3050,  0.4549,  0.2327],\n",
              "                        [-0.1438,  0.4869,  0.5488]]]])),\n",
              "             ('conv1.bias', tensor([-0.1141,  0.1048])),\n",
              "             ('conv2.weight',\n",
              "              tensor([[[[ 0.1378,  0.0572, -0.3133],\n",
              "                        [-0.1260, -0.0546, -0.3380],\n",
              "                        [-0.1682, -0.1877, -0.0948]],\n",
              "              \n",
              "                       [[-0.0245,  0.2931,  0.3160],\n",
              "                        [ 0.2575,  0.5127,  0.3996],\n",
              "                        [-0.0087,  0.1811,  0.2367]]],\n",
              "              \n",
              "              \n",
              "                      [[[-0.0150, -0.0864, -0.0030],\n",
              "                        [-0.0923,  0.0210,  0.1223],\n",
              "                        [-0.2476,  0.2070,  0.2269]],\n",
              "              \n",
              "                       [[ 0.1747, -0.0700, -0.0095],\n",
              "                        [ 0.1722, -0.0069,  0.0262],\n",
              "                        [ 0.2567,  0.0610, -0.2749]]]])),\n",
              "             ('conv2.bias', tensor([0.1120, 0.2151])),\n",
              "             ('fc.weight',\n",
              "              tensor([[ 0.1310,  0.1895,  0.1122, -0.1612,  0.1287,  0.3490,  0.2100, -0.1016,\n",
              "                        0.1889,  0.1603,  0.1269,  0.0589, -0.0352, -0.1943, -0.1181,  0.0995,\n",
              "                        0.1407, -0.0473,  0.1358,  0.0456, -0.0381,  0.0529,  0.1159,  0.2062,\n",
              "                        0.0771, -0.0283, -0.0631,  0.1670,  0.1502, -0.0748,  0.0958,  0.0933],\n",
              "                      [-0.2575, -0.0529,  0.2321,  0.2394, -0.2811,  0.0211,  0.1177,  0.1897,\n",
              "                       -0.1148,  0.2564,  0.2808,  0.1739,  0.2777,  0.3762,  0.1801,  0.1111,\n",
              "                        0.1781, -0.1182, -0.2916,  0.0185,  0.0307, -0.0519, -0.1203,  0.2135,\n",
              "                        0.1317, -0.2394, -0.0793,  0.2401,  0.0026, -0.0737,  0.1028,  0.0075]])),\n",
              "             ('fc.bias', tensor([-0.0721, -0.1180])),\n",
              "             ('out.weight', tensor([[ 0.5076, -0.9841]])),\n",
              "             ('out.bias', tensor([0.3816]))])"
            ]
          },
          "metadata": {},
          "execution_count": 11
        }
      ]
    },
    {
      "cell_type": "code",
      "source": [
        "conv1_triangle, conv2_triangle = model.get_features(tensor_triangle.unsqueeze(1).float().to(device))\n",
        "conv1_square, conv2_square = model.get_features(tensor_square.unsqueeze(1).float().to(device))\n",
        "\n",
        "plt.figure(figsize=(12, 6))\n",
        "\n",
        "feature_maps = [conv1_triangle, conv2_triangle, conv1_square, conv2_square]\n",
        "titles = ['Conv layer1', 'Conv layer2']\n",
        "\n",
        "for i, feature_map in enumerate(feature_maps):\n",
        "\n",
        "    plt.subplot(2, 4, i + 1)\n",
        "    plt.xticks([])\n",
        "    plt.yticks([])\n",
        "    plt.imshow(feature_map[0, 0].squeeze().cpu().detach().numpy(), cmap='gray')\n",
        "    if i == 0:\n",
        "        plt.ylabel('\\n—————— Triangle ——————', fontsize=20,y=-0.25)\n",
        "    elif i == 2:\n",
        "        plt.ylabel('\\n—————— Square ——————', fontsize=20,y=-0.25)\n",
        "    plt.title(titles[i%2!=0])\n",
        "\n",
        "    plt.subplot(2, 4, i + 5)\n",
        "    plt.xticks([])\n",
        "    plt.yticks([])\n",
        "    plt.imshow(feature_map[0, 1].squeeze().cpu().detach().numpy(), cmap='gray')\n",
        "    plt.title(titles[i%2!=0])\n",
        "plt.tight_layout()\n",
        "plt.show()"
      ],
      "metadata": {
        "colab": {
          "base_uri": "https://localhost:8080/",
          "height": 408
        },
        "id": "IWo342DifX3Y",
        "outputId": "9847bff8-391c-4358-fcc6-fc072ce076d4"
      },
      "execution_count": null,
      "outputs": [
        {
          "output_type": "display_data",
          "data": {
            "text/plain": [
              "<Figure size 1200x600 with 8 Axes>"
            ],
            "image/png": "[encoded data removed]"
          },
          "metadata": {}
        }
      ]
    },
    {
      "cell_type": "code",
      "source": [
        "model.load_state_dict(torch.load('model.pth'))"
      ],
      "metadata": {
        "colab": {
          "base_uri": "https://localhost:8080/"
        },
        "id": "HPWuth4RfbZ2",
        "outputId": "134e1067-ab9f-4795-e866-0639db42c185"
      },
      "execution_count": null,
      "outputs": [
        {
          "output_type": "execute_result",
          "data": {
            "text/plain": [
              "<All keys matched successfully>"
            ]
          },
          "metadata": {},
          "execution_count": 12
        }
      ]
    },
    {
      "cell_type": "code",
      "source": [
        "square_test = [[[1,1,1,1],\n",
        "          [1,2,2,1],\n",
        "          [1,2,2,1],\n",
        "          [1,1,1,1]]]\n",
        "triangle_test = [[[1,1,1,2],\n",
        "            [1,1,2,2],\n",
        "            [1,2,2,2],\n",
        "            [2,2,2,2]]]\n",
        "\n",
        "tensor_square_test = torch.tensor(square_test)\n",
        "tensor_triangle_test = torch.tensor(triangle_test)\n",
        "\n",
        "labels_square_test = torch.tensor([1])\n",
        "labels_triangle_test = torch.tensor([0])\n",
        "\n",
        "test_data_tensors = torch.stack([tensor_square_test, tensor_triangle_test])\n",
        "test_data_labels = torch.stack([labels_square_test, labels_triangle_test])\n",
        "\n",
        "plt.subplot(1, 2, 1)\n",
        "plt.axis('off')\n",
        "plt.imshow(tensor_square_test[0])\n",
        "plt.title('Square')\n",
        "for i in range(tensor_square_test.shape[1]):\n",
        "    for j in range(tensor_square_test.shape[2]):\n",
        "        plt.text(j, i, tensor_square_test[0, i, j].item(), ha='center', va='center', color='white')\n",
        "\n",
        "plt.subplot(1, 2, 2)\n",
        "plt.axis('off')\n",
        "plt.imshow(tensor_triangle_test[0])\n",
        "plt.title('Triangle')\n",
        "for i in range(tensor_triangle_test.shape[1]):\n",
        "    for j in range(tensor_triangle_test.shape[2]):\n",
        "        plt.text(j, i, tensor_triangle_test[0, i, j].item(), ha='center', va='center', color='white')\n",
        "\n",
        "plt.show()"
      ],
      "metadata": {
        "id": "Tbog-HV9fpj2",
        "outputId": "56e8c96f-ef2c-475f-a384-1c3e6a6fa55e",
        "colab": {
          "base_uri": "https://localhost:8080/",
          "height": 284
        }
      },
      "execution_count": null,
      "outputs": [
        {
          "output_type": "display_data",
          "data": {
            "text/plain": [
              "<Figure size 640x480 with 2 Axes>"
            ],
            "image/png": "[encoded data removed]"
          },
          "metadata": {}
        }
      ]
    },
    {
      "cell_type": "code",
      "source": [
        "assert data_tensors.shape == torch.Size([2, 1, 4, 4])\n",
        "assert data_labels.shape == torch.Size([2, 1])\n",
        "print(\"You have successfully created the data_tensors!\")"
      ],
      "metadata": {
        "colab": {
          "base_uri": "https://localhost:8080/"
        },
        "id": "C9vmgKEf-ycH",
        "outputId": "beb409f7-d368-4185-b43d-38291c4bff8e"
      },
      "execution_count": null,
      "outputs": [
        {
          "output_type": "stream",
          "name": "stdout",
          "text": [
            "You have successfully created the data_tensors!\n"
          ]
        }
      ]
    },
    {
      "cell_type": "code",
      "source": [
        "### START CODE HERE ###\n",
        "conv1_triangle, conv2_triangle = model.get_features(tensor_triangle_test.unsqueeze(1).float().to(device))\n",
        "conv1_square, conv2_square = model.get_features(tensor_square_test.unsqueeze(1).float().to(device))\n",
        "\n",
        "plt.figure(figsize=(12, 6))\n",
        "\n",
        "feature_maps = [conv1_triangle, conv2_triangle, conv1_square, conv2_square]\n",
        "titles = ['Conv layer1', 'Conv layer2']\n",
        "\n",
        "for i, feature_map in enumerate(feature_maps):\n",
        "    plt.subplot(2, 4, i + 1)\n",
        "    plt.xticks([])\n",
        "    plt.yticks([])\n",
        "    plt.imshow(feature_map[0, 0].squeeze().cpu().detach().numpy(), cmap='gray')\n",
        "    if i == 0:\n",
        "        plt.ylabel('\\n—————— Triangle ——————', fontsize=20,y=-0.25)\n",
        "    elif i == 2:\n",
        "        plt.ylabel('\\n—————— Square ——————', fontsize=20,y=-0.25)\n",
        "    plt.title(titles[i%2!=0])\n",
        "\n",
        "    plt.subplot(2, 4, i + 5)\n",
        "    plt.xticks([])\n",
        "    plt.yticks([])\n",
        "    plt.imshow(feature_map[0, 1].squeeze().cpu().detach().numpy(), cmap='gray')\n",
        "    plt.title(titles[i%2!=0])\n",
        "plt.tight_layout()\n",
        "plt.show()\n",
        "### END CODE HERE ###"
      ],
      "metadata": {
        "colab": {
          "base_uri": "https://localhost:8080/",
          "height": 408
        },
        "id": "5k9L1wyi_AKj",
        "outputId": "ee630244-bafb-4ee6-fdc4-023010b21924"
      },
      "execution_count": null,
      "outputs": [
        {
          "output_type": "display_data",
          "data": {
            "text/plain": [
              "<Figure size 1200x600 with 8 Axes>"
            ],
            "image/png": "[encoded data removed]"
          },
          "metadata": {}
        }
      ]
    },
    {
      "cell_type": "code",
      "source": [
        "predictions = model(test_data_tensors.float().to(device))\n",
        "predicted_labels = (predictions > 0.5).float().cpu().detach().numpy().flatten()\n",
        "true_labels = test_data_labels.cpu().numpy().flatten()\n",
        "print('predicted_label:',predicted_labels)\n",
        "print('true_labels:',true_labels)\n",
        "\n",
        "cm = confusion_matrix(true_labels, predicted_labels)\n",
        "\n",
        "plt.figure(figsize=(6, 4))\n",
        "sns.heatmap(cm, annot=True, cmap='Blues', fmt='d', xticklabels=['Triangle', 'Square'], yticklabels=['Triangle', 'Square'])\n",
        "plt.title('Confusion Matrix')\n",
        "plt.xlabel('Predicted')\n",
        "plt.ylabel('True')\n",
        "plt.show()\n"
      ],
      "metadata": {
        "id": "KK7WTmKufjln",
        "outputId": "55a934ce-979f-4a31-dcc3-9eacf75e7688",
        "colab": {
          "base_uri": "https://localhost:8080/",
          "height": 445
        }
      },
      "execution_count": null,
      "outputs": [
        {
          "output_type": "stream",
          "name": "stdout",
          "text": [
            "predicted_label: [1. 0.]\n",
            "true_labels: [1 0]\n"
          ]
        },
        {
          "output_type": "display_data",
          "data": {
            "text/plain": [
              "<Figure size 600x400 with 2 Axes>"
            ],
            "image/png": "[encoded data removed]"
          },
          "metadata": {}
        }
      ]
    }
  ]
}